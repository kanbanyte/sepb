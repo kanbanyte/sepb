{
  "cells": [
    {
      "cell_type": "markdown",
      "metadata": {
        "id": "view-in-github",
        "colab_type": "text"
      },
      "source": [
        "<a href=\"https://colab.research.google.com/github/kanbanyte/sepb/blob/collab/collab/object-detection-training.ipynb\" target=\"_parent\"><img src=\"https://colab.research.google.com/assets/colab-badge.svg\" alt=\"Open In Colab\"/></a>"
      ]
    },
    {
      "cell_type": "code",
      "execution_count": null,
      "metadata": {
        "id": "5seUrwc3a_uK"
      },
      "outputs": [],
      "source": [
        "# Check for NVIDIA GPU\n",
        "!nvidia-smi"
      ]
    },
    {
      "cell_type": "code",
      "execution_count": null,
      "metadata": {
        "id": "ME_EMYp8a_uM"
      },
      "outputs": [],
      "source": [
        "# Set up workspace directory\n",
        "\n",
        "import os\n",
        "ROOT_DIR = os.getcwd()\n",
        "print(\"Root directory is: \" + ROOT_DIR)"
      ]
    },
    {
      "cell_type": "code",
      "execution_count": null,
      "metadata": {
        "id": "1__pnPdBa_uN"
      },
      "outputs": [],
      "source": [
        "# Install Roboflow and Dataset (with private API key)\n",
        "print(\"Installing Roboflow package\")\n",
        "%pip install roboflow --quiet\n",
        "\n",
        "from roboflow import Roboflow\n",
        "import getpass\n",
        "\n",
        "api_key = getpass.getpass(\"Enter your Roboflow project API key: \")\n",
        "rf = Roboflow(api_key=api_key)\n",
        "\n",
        "# Ensure that the following matches the intended dataset source:\n",
        "# - Worspace name\n",
        "# - Project name\n",
        "# - Dataset version\n",
        "# - Format\n",
        "print(f\"Downloading dataset from Roboflow\")\n",
        "project = rf.workspace(\"sepb\").project(\"chips-cropped\")\n",
        "dataset = project.version(10).download(\"yolov5\")\n",
        "\n",
        "print(\"Fixing incorrect paths in 'data.yaml'\")\n",
        "import yaml\n",
        "dataset_yaml_path = os.path.join(dataset.location, \"data.yaml\")\n",
        "with open(dataset_yaml_path) as data_yaml:\n",
        "    doc = yaml.safe_load(data_yaml)\n",
        "doc['train'] = \"../train/images\"\n",
        "doc['val'] = \"../valid/images\"\n",
        "with open(dataset_yaml_path, 'w') as data_yaml:\n",
        "    yaml.dump(doc, data_yaml)\n",
        "\n",
        "print(\"Finished fixing incorrect paths in 'data.yaml'\")\n"
      ]
    },
    {
      "cell_type": "markdown",
      "source": [
        "# Download YOLO model and start training.\n"
      ],
      "metadata": {
        "id": "hsZxD3EUb13F"
      }
    },
    {
      "cell_type": "code",
      "execution_count": null,
      "metadata": {
        "id": "sVP6QjoVa_uO"
      },
      "outputs": [],
      "source": [
        "# Install dependencies from Ultralytics in quiet mode\n",
        "\n",
        "print(\"Installing Ultralytics dependencies\")\n",
        "from IPython import display\n",
        "%pip install ultralytics==8.0.159 --quiet\n",
        "import ultralytics\n",
        "ultralytics.checks()\n",
        "\n",
        "# Install YOLO model\n",
        "from ultralytics import YOLO\n",
        "\n",
        "print(\"Cloning YOLOv5 from GitHub\")\n",
        "!git clone https://github.com/ultralytics/yolov5 --quiet\n",
        "%pip install -r {ROOT_DIR}/yolov5/requirements.txt --quiet"
      ]
    },
    {
      "cell_type": "code",
      "execution_count": null,
      "metadata": {
        "id": "809ZnKYEa_uQ"
      },
      "outputs": [],
      "source": [
        "# Configure the model training parameters\n",
        "\n",
        "# TODO(HUY): This code is experimental, needs more understanding\n",
        "def freeze_backbone(trainer):\n",
        "    model = trainer.model\n",
        "    frozen_layer_count = 10\n",
        "    print(f\"Freezing {frozen_layer_count} layers\")\n",
        "    freeze = [f'model.{x}.' for x in range(frozen_layer_count)]  # layers to freeze\n",
        "    for k, v in model.named_parameters():\n",
        "        v.requires_grad = True  # train all layers\n",
        "        if any(x in k for x in freeze):\n",
        "            print(f'Freezing {k}')\n",
        "            v.requires_grad = False\n",
        "    print(f\"{frozen_layer_count} layers are freezed.\")\n",
        "\n",
        "\n",
        "%cd {ROOT_DIR}\n",
        "\n",
        "epochs_input = input(f\"Enter the number of epochs (default: 30): \")\n",
        "epochs = int(epochs_input) if epochs_input else 30\n",
        "\n",
        "image_size_input = input(f\"Enter the image size (default: 1000): \")\n",
        "image_size = int(image_size_input) if image_size_input else 1000\n",
        "\n",
        "model_choice = input(\"Enter the model choice (0 for small, 1 for medium, 2 for large, 3 for extra large): \")\n",
        "if model_choice == \"0\":\n",
        "    model_name = \"yolov5su.pt\"\n",
        "elif model_choice == \"1\":\n",
        "    model_name = \"yolov5m.pt\"\n",
        "elif model_choice == \"2\":\n",
        "    model_name = \"yolov5l.pt\"\n",
        "elif model_choice == \"3\":\n",
        "    model_name = \"yolov5x.pt\"\n",
        "else:\n",
        "    print(\"Invalid model choice. Please choose 0-3.\")\n",
        "    exit()\n",
        "\n",
        "print(f\"Training model {model_name} with {epochs} epochs\")\n",
        "\n",
        "# YOLO calculates the final learning rate as final_lr_factor * initial learning rate\n",
        "final_lr_factor = 0.01\n",
        "\n",
        "model = YOLO(model_name)\n",
        "# model.add_callback(\"on_train_start\", freeze_backbone)\n",
        "model.train(data=dataset_yaml_path, epochs=epochs, imgsz=image_size, cache=True, lrf=final_lr_factor)\n",
        "\n",
        "# Setup result output paths for subsequent cells\n",
        "train_folders = [folder for folder in os.listdir(f'{ROOT_DIR}/runs/detect') if folder.startswith(\"train\") and not folder.endswith(\".zip\")]\n",
        "\n",
        "# Extract the indices from folder names and find the highest index\n",
        "# Retraining will output results in new folders with the name format: \"train<index>\"\n",
        "indices = [int(folder[len(\"train\"):] if folder[len(\"train\"):] else 0) for folder in train_folders]\n",
        "highest_index = \"\" if max(indices) == 0 else max(indices)\n",
        "result_folder_path = f'{ROOT_DIR}/runs/detect/train{highest_index}'\n"
      ]
    },
    {
      "cell_type": "code",
      "source": [
        "# Display the result summary\n",
        "\n",
        "from IPython.display import Image, display\n",
        "\n",
        "results_file_path = f'{result_folder_path}/results.png'\n",
        "print(f\"Displaying result summary from {results_file_path}\")\n",
        "display(Image(filename=results_file_path, width=2000))\n",
        "\n",
        "confusion_mat_file_path = f'{result_folder_path}/confusion_matrix.png'\n",
        "print(f\"Displaying confusion matrix from {confusion_mat_file_path}\")\n",
        "display(Image(filename=confusion_mat_file_path, width=1600))"
      ],
      "metadata": {
        "id": "2mVp1JlXd3ZI"
      },
      "execution_count": null,
      "outputs": []
    },
    {
      "cell_type": "code",
      "source": [
        "# Downloading models files and results in a ZIP folder\n",
        "from datetime import datetime, timedelta\n",
        "import locale\n",
        "# Fix Google Collab occasional encoding error when using shell commands\n",
        "locale.getpreferredencoding = lambda: \"UTF-8\"\n",
        "\n",
        "# Format the zip file name with local Australian time\n",
        "current_utc_time = datetime.utcnow()\n",
        "dst_change = datetime(2023, 10, 1, 2, 0, 0)\n",
        "time_difference = timedelta(hours=10) if current_utc_time < dst_change else timedelta(hours=11)\n",
        "current_datetime = (current_utc_time + time_difference).strftime(\"%Y-%m-%dT%H-%M-%S\")\n",
        "zip_folder_path = f'{ROOT_DIR}/runs/detect/train-{current_datetime}'\n",
        "\n",
        "# Avoid empty parent folders in zip file by cd-ing to the folder before zipping it\n",
        "%cd {result_folder_path}\n",
        "!zip -r {zip_folder_path} *\n",
        "\n",
        "from google.colab import files\n",
        "\n",
        "zip_file_size_mb = os.path.getsize(f'{zip_folder_path}.zip') / (1024 * 1024)\n",
        "download = input(f\"Press 'y' to download result zip folder ({zip_file_size_mb:.2f} MB) '{zip_folder_path}': \")\n",
        "if download == 'y':\n",
        "    files.download(f\"{zip_folder_path}.zip\")\n"
      ],
      "metadata": {
        "id": "f_2jJx1UndAr"
      },
      "execution_count": null,
      "outputs": []
    }
  ],
  "metadata": {
    "kernelspec": {
      "display_name": "Python 3",
      "name": "python3"
    },
    "language_info": {
      "codemirror_mode": {
        "name": "ipython",
        "version": 3
      },
      "file_extension": ".py",
      "mimetype": "text/x-python",
      "name": "python",
      "nbconvert_exporter": "python",
      "pygments_lexer": "ipython3",
      "version": "3.9.1"
    },
    "orig_nbformat": 4,
    "colab": {
      "provenance": [],
      "gpuType": "T4",
      "include_colab_link": true
    },
    "accelerator": "GPU"
  },
  "nbformat": 4,
  "nbformat_minor": 0
}