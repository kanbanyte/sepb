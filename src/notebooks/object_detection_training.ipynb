{
  "cells": [
    {
      "cell_type": "markdown",
      "metadata": {
        "colab_type": "text",
        "id": "view-in-github"
      },
      "source": [
        "<a href=\"https://colab.research.google.com/github/kanbanyte/sepb/blob/collab/collab/object_detection_training.ipynb\" target=\"_parent\"><img src=\"https://colab.research.google.com/assets/colab-badge.svg\" alt=\"Open In Colab\"/></a>"
      ]
    },
    {
      "cell_type": "code",
      "execution_count": null,
      "metadata": {
        "id": "5seUrwc3a_uK"
      },
      "outputs": [],
      "source": [
        "# Check for NVIDIA GPU\n",
        "!nvidia-smi"
      ]
    },
    {
      "cell_type": "code",
      "execution_count": 1,
      "metadata": {
        "id": "ME_EMYp8a_uM"
      },
      "outputs": [
        {
          "name": "stdout",
          "output_type": "stream",
          "text": [
            "Root directory is: d:\\Swinburne Assignments\\SEP-B\\shared\\group-repo\\src\\notebooks\n"
          ]
        }
      ],
      "source": [
        "# Set up workspace directory\n",
        "\n",
        "import os\n",
        "ROOT_DIR = os.getcwd()\n",
        "print(\"Root directory is: \" + ROOT_DIR)"
      ]
    },
    {
      "cell_type": "code",
      "execution_count": 2,
      "metadata": {
        "id": "1__pnPdBa_uN"
      },
      "outputs": [],
      "source": [
        "# Install Roboflow and Dataset (with private API key)\n",
        "print(\"Installing Roboflow package\")\n",
        "%pip install roboflow --quiet\n",
        "\n",
        "from roboflow import Roboflow\n",
        "import getpass\n",
        "\n",
        "api_key = getpass.getpass(\"Enter your Roboflow project API key: \")\n",
        "rf = Roboflow(api_key=api_key)\n",
        "\n",
        "# Ensure that the following matches the intended dataset source:\n",
        "# - Workspace name\n",
        "# - Project name\n",
        "# - Dataset version\n",
        "# - Format\n",
        "print(f\"Downloading dataset from Roboflow\")\n",
        "dataset_workspace = \"sepb\"\n",
        "dataset_project = input(\"Enter dataset project: \")\n",
        "dataset_version = int(input(\"Enter dataset version: \"))\n",
        "\n",
        "project = rf.workspace(dataset_workspace).project(dataset_project)\n",
        "dataset = project.version(dataset_version).download(\"yolov5\")\n",
        "\n",
        "print(\"Fixing incorrect paths in 'data.yaml'\")\n",
        "import yaml\n",
        "dataset_yaml_path = os.path.join(dataset.location, \"data.yaml\")\n",
        "with open(dataset_yaml_path) as data_yaml:\n",
        "    doc = yaml.safe_load(data_yaml)\n",
        "doc['train'] = \"../train/images\"\n",
        "doc['val'] = \"../valid/images\"\n",
        "with open(dataset_yaml_path, 'w') as data_yaml:\n",
        "    yaml.dump(doc, data_yaml)\n",
        "\n",
        "print(\"Finished fixing incorrect paths in 'data.yaml'\")\n"
      ]
    },
    {
      "cell_type": "markdown",
      "metadata": {
        "id": "hsZxD3EUb13F"
      },
      "source": [
        "# Download YOLO model and start training.\n"
      ]
    },
    {
      "cell_type": "code",
      "execution_count": null,
      "metadata": {
        "id": "sVP6QjoVa_uO"
      },
      "outputs": [],
      "source": [
        "# Install dependencies from Ultralytics in quiet mode\n",
        "\n",
        "print(\"Installing Ultralytics dependencies\")\n",
        "from IPython import display\n",
        "%pip install ultralytics==8.0.159 --quiet\n",
        "import ultralytics\n",
        "ultralytics.checks()\n",
        "\n",
        "# Install YOLO model\n",
        "from ultralytics import YOLO\n",
        "\n",
        "print(\"Cloning YOLOv5 from GitHub\")\n",
        "!git clone https://github.com/ultralytics/yolov5 --quiet\n",
        "%pip install -r {ROOT_DIR}/yolov5/requirements.txt --quiet"
      ]
    },
    {
      "cell_type": "code",
      "execution_count": null,
      "metadata": {
        "id": "809ZnKYEa_uQ"
      },
      "outputs": [],
      "source": [
        "# Configure the model training parameters\n",
        "\n",
        "frozen_layer_count = None\n",
        "\n",
        "# According to the architecture of the model (.yaml file in yolov5/models), the backbone contains 10 layers\n",
        "def freeze_backbone(trainer):\n",
        "    model = trainer.model\n",
        "    global frozen_layer_count\n",
        "    frozen_layer_count_input = input(\"Enter the number of layers to freeze (default: 0): \")\n",
        "    frozen_layer_count = int(frozen_layer_count_input) if frozen_layer_count_input else 0\n",
        "    if frozen_layer_count < 0 or frozen_layer_count > 10:\n",
        "        print(\"Error: layer count must be between 0 and 10, inclusive\")\n",
        "        exit(-1)\n",
        "        \n",
        "    print(f\"Freezing {frozen_layer_count} layers\")\n",
        "    freeze = [f'model.{x}.' for x in range(frozen_layer_count)]  # layers to freeze\n",
        "    for k, v in model.named_parameters():\n",
        "        v.requires_grad = True  # train all layers\n",
        "        if any(x in k for x in freeze):\n",
        "            print(f'Freezing {k}')\n",
        "            v.requires_grad = False\n",
        "    print(f\"{frozen_layer_count} layers are freezed.\")\n",
        "\n",
        "def get_image_size():\n",
        "    print(\n",
        "    '''\n",
        "    Enter image size. For rectangular images, enter the longer dimension.\n",
        "    \\tNote:\n",
        "    \\t1. Larger image size consumes more memory to train\n",
        "    \\t2. Image size used to train and run inference should be similar\n",
        "    \\t3. Larger image size may increase accuracy\n",
        "    ''')\n",
        "    image_size_input = input(f\"Enter the image size (default: 640)\")\n",
        "    return int(image_size_input) if image_size_input else 640\n",
        "\n",
        "def get_epochs():\n",
        "    epochs_input = input(f\"Enter the number of epochs (default: 30): \")\n",
        "    return int(epochs_input) if epochs_input else 30\n",
        "\n",
        "def get_force_rect_training():\n",
        "    # According to this GitHub comment https://github.com/ultralytics/yolov5/issues/2009#issuecomment-766147324,\n",
        "    # we should force rectangular training when using non-square images.\n",
        "    # Note that rectangular inference is the default inference behavior, according to https://github.com/ultralytics/yolov5/issues/2009#issuecomment-765557040 \n",
        "    use_retangular_training_input = input(\"Use rectangular training (y=yes/any key=no) (default: y): \")\n",
        "    return use_retangular_training_input or use_retangular_training_input == 'y'\n",
        "\n",
        "def get_model():\n",
        "    model_choice = input(\"Enter the model choice (0 for small, 1 for medium, 2 for large, 3 for extra large): \")\n",
        "    if model_choice == \"0\":\n",
        "        return \"yolov5su.pt\"\n",
        "    elif model_choice == \"1\":\n",
        "        return \"yolov5m.pt\"\n",
        "    elif model_choice == \"2\":\n",
        "        return \"yolov5l.pt\"\n",
        "    elif model_choice == \"3\":\n",
        "        return \"yolov5x.pt\"\n",
        "    else:\n",
        "        print(\"Invalid model choice. Please choose 0-3.\")\n",
        "        exit(-1)\n",
        "\n",
        "%cd {ROOT_DIR}\n",
        "\n",
        "epochs = get_epochs()\n",
        "use_retangular_training = get_force_rect_training()\n",
        "image_size = get_image_size()\n",
        "model_name = get_model()\n",
        "\n",
        "# YOLO calculates the final learning rate as final_lr_factor * initial learning rate\n",
        "final_lr_factor = 0.01\n",
        "model = YOLO(model_name)\n",
        "\n",
        "# The recommended way to freeze layers within the backbone is a callback https://github.com/ultralytics/ultralytics/issues/793#issuecomment-1510398080\n",
        "model.add_callback(\"on_train_start\", freeze_backbone)\n",
        "\n",
        "print(f\"Training model {model_name} with {epochs} epochs\")\n",
        "model.train(data=dataset_yaml_path, epochs=epochs, imgsz=image_size, cache=True, lrf=final_lr_factor, rect=use_retangular_training)\n",
        "\n",
        "# Setup result output paths for subsequent cells\n",
        "train_folders = [folder for folder in os.listdir(f'{ROOT_DIR}/runs/detect') if folder.startswith(\"train\") and not folder.endswith(\".zip\")]\n",
        "\n",
        "# Extract the indices from folder names and find the highest index\n",
        "# Retraining will output results in new folders with the name format: \"train<index>\"\n",
        "indices = [int(folder[len(\"train\"):] if folder[len(\"train\"):] else 0) for folder in train_folders]\n",
        "highest_index = \"\" if max(indices) == 0 else max(indices)\n",
        "result_folder_path = f'{ROOT_DIR}/runs/detect/train{highest_index}'"
      ]
    },
    {
      "cell_type": "code",
      "execution_count": null,
      "metadata": {},
      "outputs": [],
      "source": [
        "# Records the training configuration to a yaml file\n",
        "# The image size used for training and inference should be the same\n",
        "\n",
        "import yaml\n",
        "import os\n",
        "train_config = { \n",
        "        \"imageSize\": image_size,\n",
        "        \"epochs\": epochs,\n",
        "        \"model\": model_name,\n",
        "        \"frozen_backbone_layers\": frozen_layer_count,\n",
        "        \"rectangular_training\": use_retangular_training,\n",
        "        \"dataset\": {\n",
        "                \"workspace\": dataset_workspace,\n",
        "                \"project\": dataset_project,\n",
        "                \"version\": dataset_version,\n",
        "            }\n",
        "    }\n",
        "\n",
        "train_config_file = os.path.join(result_folder_path, 'training_config.yaml')\n",
        "with open(train_config_file, 'w') as file:\n",
        "    yaml.dump(train_config, file)"
      ]
    },
    {
      "cell_type": "code",
      "execution_count": null,
      "metadata": {
        "id": "2mVp1JlXd3ZI"
      },
      "outputs": [],
      "source": [
        "# Display the result summary\n",
        "\n",
        "from IPython.display import Image, display\n",
        "\n",
        "results_file_path = f'{result_folder_path}/results.png'\n",
        "display(Image(filename=results_file_path, width=2000))\n",
        "\n",
        "confusion_mat_file_path = f'{result_folder_path}/confusion_matrix.png'\n",
        "display(Image(filename=confusion_mat_file_path, width=1600))\n",
        "\n",
        "print(f\"Displayed confusion matrix from {confusion_mat_file_path}\")\n",
        "print(f\"Displayed result summary from {results_file_path}\")"
      ]
    },
    {
      "cell_type": "code",
      "execution_count": null,
      "metadata": {
        "id": "f_2jJx1UndAr"
      },
      "outputs": [],
      "source": [
        "# This cell is only applicable when the notebook is run in Google Collab\n",
        "# Downloading models files and results in a ZIP folder\n",
        "from datetime import datetime, timedelta\n",
        "import locale\n",
        "# Fix Google Collab occasional encoding error when using shell commands\n",
        "locale.getpreferredencoding = lambda: \"UTF-8\"\n",
        "\n",
        "# Format the zip file name with local Australian time\n",
        "current_utc_time = datetime.utcnow()\n",
        "dst_change = datetime(2023, 10, 1, 2, 0, 0)\n",
        "time_difference = timedelta(hours=10) if current_utc_time < dst_change else timedelta(hours=11)\n",
        "current_datetime = (current_utc_time + time_difference).strftime(\"%Y-%m-%dT%H-%M-%S\")\n",
        "zip_folder_path = f'{ROOT_DIR}/runs/detect/train-{current_datetime}'\n",
        "\n",
        "# Avoid empty parent folders in zip file by cd-ing to the folder before zipping it\n",
        "%cd {result_folder_path}\n",
        "!zip -r {zip_folder_path} *\n",
        "\n",
        "from google.colab import files\n",
        "\n",
        "zip_file_size_mb = os.path.getsize(f'{zip_folder_path}.zip') / (1024 * 1024)\n",
        "download = input(f\"Press 'y' to download result zip folder ({zip_file_size_mb:.2f} MB) '{zip_folder_path}': \")\n",
        "if download == 'y':\n",
        "    files.download(f\"{zip_folder_path}.zip\")\n"
      ]
    }
  ],
  "metadata": {
    "accelerator": "GPU",
    "colab": {
      "gpuType": "T4",
      "include_colab_link": true,
      "provenance": []
    },
    "kernelspec": {
      "display_name": "Python 3",
      "name": "python3"
    },
    "language_info": {
      "codemirror_mode": {
        "name": "ipython",
        "version": 3
      },
      "file_extension": ".py",
      "mimetype": "text/x-python",
      "name": "python",
      "nbconvert_exporter": "python",
      "pygments_lexer": "ipython3",
      "version": "3.9.1"
    },
    "orig_nbformat": 4
  },
  "nbformat": 4,
  "nbformat_minor": 0
}
